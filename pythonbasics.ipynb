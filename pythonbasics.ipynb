{
  "nbformat": 4,
  "nbformat_minor": 0,
  "metadata": {
    "colab": {
      "provenance": []
    },
    "kernelspec": {
      "name": "python3",
      "display_name": "Python 3"
    },
    "language_info": {
      "name": "python"
    }
  },
  "cells": [
    {
      "cell_type": "markdown",
      "source": [
        "# Python Basics Questions\n",
        "\n",
        "1.What is Python, and why is it popular?\n",
        "\n",
        "Ans- Python is a popular programming language that is used for many tasks, including web development, data science and machine learning.Its easy to learn, efficient and can run on many platforms.\n",
        "Its popular because of its readability and versatile nature. It also has many libraries that can handle complex calculations and computations.\n",
        "\n",
        "\n",
        "2. What is an interpreter in Python?\n",
        "\n",
        "Ans- In Python, an interpreter is a program that reads and executes Python code line by line, translating it into machine-readable instructions for the computer to understand and perform. The interpreter translates the command that you write out into the code that the computer can understand.\n",
        "\n",
        "\n",
        "3. What are pre-defined keywords in Python?\n",
        "\n",
        "Ans- Python keywords are reserved words with predefined meanings and purposes, used for specific language constructs and cannot be used as variable names or identifiers. Example- if, else, for, while, def and import.\n",
        "\n",
        "4.  Can keywords be used as variable names?\n",
        "\n",
        "Ans- We cannot use a keyword as a varibale name, function name or any other identifier. They are used to define the syntax and structure of the Python language.\n",
        "\n",
        "5.  What is mutability in Python?\n",
        "\n",
        "Ans- Mutability refers to an object's ability to be changed after its creation. Mutable objects like lists, dictionaries, and sets, can be modified in place.\n",
        "\n",
        "6. Why are lists mutable, but tuples are immutable?\n",
        "\n",
        "Ans- Lists are ordered collections of items, enclosed in square brackets, and their contents can be modified after creation but tuples are ordered collections of items, enclosed in parantheses. Once created, we cannot add , remove or change elements within the tuple.\n",
        "\n",
        "7. What is the difference between “==” and “is” operators in Python?\n",
        "\n",
        "Ans- In Python, \"==\" checks for value equality (whether two objects have the same value), while \"is\" checks for object identity (whether two variables point to the same object in memory).\n",
        "\n",
        "8.  What are logical operators in Python?\n",
        "\n",
        "Ans- In Python, logical operators, also known as Boolean operators, are used to combine or modify boolean expressions, evaluating to either \"True\" or \"False\". The main logical operators are \"and\", \"or\" and \"not\".\n",
        "\n",
        "9. What is type casting in Python?\n",
        "\n",
        "Ans- In Python, type casting (also known as type conversion) is the process of converting a variable's data type to another, like converting an integer to a float or a string to an integer.\n",
        "\n",
        "10.  What is the difference between implicit and explicit type casting?\n",
        "\n",
        "Ans- In implicit typecasting, the programming language automatically converts data from one type to another if needed. For example- if you have an integer variable and you try to assign it to a float variable, the programming language will automatically convert the integer to a float without you having to do anything.\n",
        "\n",
        "In explicit typecasting, type conversion occurs when the programmer explicilty converts a value from one data type to another. Unlike implicit typecasting, explicit typecasting requires the programmer to specify the desired data type conversion.\n",
        "\n",
        "11.  What is the purpose of conditional statements in Python?\n",
        "\n",
        "Ans- Conditional Satements in Python are used to execute certain blocks of code based on specific conditions. These statements help control the flow of a program, making it behave differently in different situations.\n",
        "\n",
        "12. How does the elif statement work?\n",
        "\n",
        "Ans- \"Elif\" keyword in Python, used in conditional statements to check for multiple conditions. For example, if the first condition is false, it moves on to the next \"elif\" statement to check if that condition is true.\n",
        "\n",
        "13. What is the difference between for and while loops?\n",
        "\n",
        "Ans- FOR LOOP\n",
        "\n",
        "1. Initialization- Declared within the loop structure and executed once at the beginning.\n",
        "2. Condition- Checked before each iteration.\n",
        "3. Update- Executed after each iteration.\n",
        "  \n",
        "  WHILE LOOP\n",
        "\n",
        "1. Initialization- Declared outside the loop; should be done explicitly before the loop.\n",
        "2. Condition- Checked before each iteration.\n",
        "3. Update- Executed inside the loop; needs to be handled explicilty.\n",
        "\n",
        "14. Describe a scenario where a while loop is more suitable than a for loop.\n",
        "\n",
        "Ans- For Loop- When you know the number of iterations in advance, such as iterating over an array or printing a specific number of lines.\n",
        "While Loop- When the number of iterations depends on a dynamic condition, such as prompting the user for valid input or running a process until a certain condition is met.\n",
        "\n",
        "\n",
        "\n"
      ],
      "metadata": {
        "id": "jU1f5k0XaXca"
      }
    },
    {
      "cell_type": "markdown",
      "source": [
        "# Practical Questions\n",
        "\n",
        "1.  Write a Python program to print \"Hello, World!\""
      ],
      "metadata": {
        "id": "keOpRSJHdh1P"
      }
    },
    {
      "cell_type": "code",
      "source": [
        "print(\"Hello World!\")"
      ],
      "metadata": {
        "colab": {
          "base_uri": "https://localhost:8080/"
        },
        "id": "vPNV9lxYd1kg",
        "outputId": "a17db9fb-8135-4b86-8ebb-6b1fe42ee9bc"
      },
      "execution_count": 1,
      "outputs": [
        {
          "output_type": "stream",
          "name": "stdout",
          "text": [
            "Hello World!\n"
          ]
        }
      ]
    },
    {
      "cell_type": "markdown",
      "source": [
        "2. Write a Python program that displays your name and age."
      ],
      "metadata": {
        "id": "HPjwEUlzeFwl"
      }
    },
    {
      "cell_type": "code",
      "source": [
        "name= \"Tavneet Kaur\"\n",
        "age= 22\n",
        "\n",
        "print(\"Name:\", name)\n",
        "print(\"Age:\", age)"
      ],
      "metadata": {
        "colab": {
          "base_uri": "https://localhost:8080/"
        },
        "id": "FMZEqOZ6eKxT",
        "outputId": "44de2b89-7afc-4b20-8505-fd8b4e646206"
      },
      "execution_count": 3,
      "outputs": [
        {
          "output_type": "stream",
          "name": "stdout",
          "text": [
            "Name: Tavneet Kaur\n",
            "Age: 22\n"
          ]
        }
      ]
    },
    {
      "cell_type": "markdown",
      "source": [
        "3.  Write code to print all the pre-defined keywords in Python using the keyword library"
      ],
      "metadata": {
        "id": "wDzE_oaVgUrM"
      }
    },
    {
      "cell_type": "code",
      "source": [
        "import keyword\n",
        "\n",
        "keywords= keyword.kwlist\n",
        "print(\"Python Keywords:\")\n",
        "for kw in keywords:\n",
        "  print(kw)"
      ],
      "metadata": {
        "colab": {
          "base_uri": "https://localhost:8080/"
        },
        "id": "fOul6prYgy87",
        "outputId": "6a144382-9500-446d-edca-ada95596c43a"
      },
      "execution_count": 4,
      "outputs": [
        {
          "output_type": "stream",
          "name": "stdout",
          "text": [
            "Python Keywords:\n",
            "False\n",
            "None\n",
            "True\n",
            "and\n",
            "as\n",
            "assert\n",
            "async\n",
            "await\n",
            "break\n",
            "class\n",
            "continue\n",
            "def\n",
            "del\n",
            "elif\n",
            "else\n",
            "except\n",
            "finally\n",
            "for\n",
            "from\n",
            "global\n",
            "if\n",
            "import\n",
            "in\n",
            "is\n",
            "lambda\n",
            "nonlocal\n",
            "not\n",
            "or\n",
            "pass\n",
            "raise\n",
            "return\n",
            "try\n",
            "while\n",
            "with\n",
            "yield\n"
          ]
        }
      ]
    },
    {
      "cell_type": "markdown",
      "source": [
        "4. Write a program that checks if a given word is a Python keyword"
      ],
      "metadata": {
        "id": "Szku09SBhHeo"
      }
    },
    {
      "cell_type": "code",
      "source": [
        "import keyword\n",
        "\n",
        "def is_python_keyword(word):\n",
        "    return keyword.iskeyword(word)\n",
        "\n",
        "word = input(\"Enter a word: \")\n",
        "\n",
        "if is_python_keyword(word):\n",
        "    print(f\"'{word}' is a Python keyword.\")\n",
        "else:\n",
        "    print(f\"'{word}' is NOT a Python keyword.\")\n",
        "\n"
      ],
      "metadata": {
        "colab": {
          "base_uri": "https://localhost:8080/"
        },
        "id": "1IdYVKEfhLH_",
        "outputId": "8f8ce886-d190-40e1-ef42-2f103fa04c36"
      },
      "execution_count": 1,
      "outputs": [
        {
          "output_type": "stream",
          "name": "stdout",
          "text": [
            "Enter a word: if\n",
            "'if' is a Python keyword.\n"
          ]
        }
      ]
    },
    {
      "cell_type": "markdown",
      "source": [
        "5.  Create a list and tuple in Python, and demonstrate how attempting to change an element works differently\n",
        "for each."
      ],
      "metadata": {
        "id": "y68hwlRGkG-K"
      }
    },
    {
      "cell_type": "code",
      "source": [
        "# Creating a list\n",
        "my_list = [1, 2, 3, 4, 5]\n",
        "\n",
        "# Creating a tuple\n",
        "my_tuple = (1, 2, 3, 4, 5)\n",
        "\n",
        "# Displaying the list and tuple\n",
        "print(\"Original List:\", my_list)\n",
        "print(\"Original Tuple:\", my_tuple)\n",
        "\n",
        "# Changing an element in the list\n",
        "my_list[2] = 99  # Changing the third element (index 2) to 99\n",
        "print(\"Modified List:\", my_list)\n",
        "\n",
        "# Attempting to change an element in the tuple\n",
        "try:\n",
        "    my_tuple[2] = 99  # This will raise an error\n",
        "except TypeError as e:\n",
        "    print(\"Error:\", e)"
      ],
      "metadata": {
        "colab": {
          "base_uri": "https://localhost:8080/"
        },
        "id": "V17Pm4T6kJC2",
        "outputId": "2cbf6d3c-82df-4432-88ac-245c06f4257d"
      },
      "execution_count": 8,
      "outputs": [
        {
          "output_type": "stream",
          "name": "stdout",
          "text": [
            "Original List: [1, 2, 3, 4, 5]\n",
            "Original Tuple: (1, 2, 3, 4, 5)\n",
            "Modified List: [1, 2, 99, 4, 5]\n",
            "Error: 'tuple' object does not support item assignment\n"
          ]
        }
      ]
    },
    {
      "cell_type": "markdown",
      "source": [
        "6.  Write a function to demonstrate the behavior of mutable and immutable arguments"
      ],
      "metadata": {
        "id": "4Bnc5Zg_kpbv"
      }
    },
    {
      "cell_type": "code",
      "source": [
        "def demonstrate_mutable_immutable(mutable_arg, immutable_arg):\n",
        "    print(\"Before modification:\")\n",
        "    print(\"Mutable argument (list):\", mutable_arg)\n",
        "    print(\"Immutable argument (integer):\", immutable_arg)\n",
        "\n",
        "    # Modifying the mutable argument\n",
        "    mutable_arg.append(100)\n",
        "    print(\"\\nAfter modifying mutable argument:\")\n",
        "    print(\"Mutable argument (list):\", mutable_arg)\n",
        "\n",
        "    # Attempting to modify the immutable argument\n",
        "    immutable_arg += 10  # This creates a new integer object\n",
        "    print(\"After modifying immutable argument:\")\n",
        "    print(\"Immutable argument (integer):\", immutable_arg)\n",
        "\n",
        "# Example usage\n",
        "my_list = [1, 2, 3]\n",
        "my_integer = 5\n",
        "\n",
        "demonstrate_mutable_immutable(my_list, my_integer)\n",
        "\n",
        "# Checking the original values after the function call\n",
        "print(\"\\nOriginal values after function call:\")\n",
        "print(\"Original list:\", my_list)\n",
        "print(\"Original integer:\", my_integer)"
      ],
      "metadata": {
        "colab": {
          "base_uri": "https://localhost:8080/"
        },
        "id": "L_WQeD9Tk4lG",
        "outputId": "ba584484-5360-43bb-bf76-33e3b4990c14"
      },
      "execution_count": 9,
      "outputs": [
        {
          "output_type": "stream",
          "name": "stdout",
          "text": [
            "Before modification:\n",
            "Mutable argument (list): [1, 2, 3]\n",
            "Immutable argument (integer): 5\n",
            "\n",
            "After modifying mutable argument:\n",
            "Mutable argument (list): [1, 2, 3, 100]\n",
            "After modifying immutable argument:\n",
            "Immutable argument (integer): 15\n",
            "\n",
            "Original values after function call:\n",
            "Original list: [1, 2, 3, 100]\n",
            "Original integer: 5\n"
          ]
        }
      ]
    },
    {
      "cell_type": "markdown",
      "source": [
        "7.  Write a function to demonstrate the behavior of mutable and immutable arguments"
      ],
      "metadata": {
        "id": "QB8fzdTolkHF"
      }
    },
    {
      "cell_type": "code",
      "source": [
        "def demonstrate_mutable_immutable(mutable_arg, immutable_arg):\n",
        "    print(\"Before modification:\")\n",
        "    print(\"Mutable argument (list):\", mutable_arg)\n",
        "    print(\"Immutable argument (string):\", immutable_arg)\n",
        "\n",
        "    # Modifying the mutable argument\n",
        "    mutable_arg.append(\"new item\")  # This modifies the original list\n",
        "    print(\"\\nAfter modifying mutable argument:\")\n",
        "    print(\"Mutable argument (list):\", mutable_arg)\n",
        "\n",
        "    # Attempting to modify the immutable argument\n",
        "    immutable_arg += \" - modified\"  # This creates a new string object\n",
        "    print(\"After modifying immutable argument:\")\n",
        "    print(\"Immutable argument (string):\", immutable_arg)\n",
        "\n",
        "# Example usage\n",
        "my_list = [1, 2, 3]\n",
        "my_string = \"original\"\n",
        "\n",
        "demonstrate_mutable_immutable(my_list, my_string)\n",
        "\n",
        "# Checking the original values after the function call\n",
        "print(\"\\nOriginal values after function call:\")\n",
        "print(\"Original list:\", my_list)\n",
        "print(\"Original string:\", my_string)"
      ],
      "metadata": {
        "colab": {
          "base_uri": "https://localhost:8080/"
        },
        "id": "3qMwJqENlnTe",
        "outputId": "7b3824bc-e960-4ee6-9df5-77f56d27b969"
      },
      "execution_count": 10,
      "outputs": [
        {
          "output_type": "stream",
          "name": "stdout",
          "text": [
            "Before modification:\n",
            "Mutable argument (list): [1, 2, 3]\n",
            "Immutable argument (string): original\n",
            "\n",
            "After modifying mutable argument:\n",
            "Mutable argument (list): [1, 2, 3, 'new item']\n",
            "After modifying immutable argument:\n",
            "Immutable argument (string): original - modified\n",
            "\n",
            "Original values after function call:\n",
            "Original list: [1, 2, 3, 'new item']\n",
            "Original string: original\n"
          ]
        }
      ]
    },
    {
      "cell_type": "markdown",
      "source": [
        " 8. Write a program to demonstrate the use of logical operators"
      ],
      "metadata": {
        "id": "7kfvtsZGl99j"
      }
    },
    {
      "cell_type": "code",
      "source": [
        "def demonstrate_logical_operators(a, b):\n",
        "    print(f\"Values: a = {a}, b = {b}\\n\")\n",
        "\n",
        "    # Using the 'and' operator\n",
        "    if a > 0 and b > 0:\n",
        "        print(\"Both a and b are positive.\")\n",
        "    else:\n",
        "        print(\"At least one of a or b is not positive.\")\n",
        "\n",
        "    # Using the 'or' operator\n",
        "    if a > 0 or b > 0:\n",
        "        print(\"At least one of a or b is positive.\")\n",
        "    else:\n",
        "        print(\"Neither a nor b is positive.\")\n",
        "\n",
        "    # Using the 'not' operator\n",
        "    if not (a > 0):\n",
        "        print(\"a is not positive.\")\n",
        "    else:\n",
        "        print(\"a is positive.\")\n",
        "\n",
        "    if not (b > 0):\n",
        "        print(\"b is not positive.\")\n",
        "    else:\n",
        "        print(\"b is positive.\")\n",
        "\n",
        "# Example usage\n",
        "demonstrate_logical_operators(5, 10)  # Both positive\n",
        "print()\n",
        "demonstrate_logical_operators(-5, 10)  # a is negative\n",
        "print()\n",
        "demonstrate_logical_operators(-5, -10)  # Both negative\n",
        "print()\n",
        "demonstrate_logical_operators(0, 0)  # Both zero"
      ],
      "metadata": {
        "colab": {
          "base_uri": "https://localhost:8080/"
        },
        "id": "MbMdvBKXmImh",
        "outputId": "17220a54-c8ab-4dca-ad27-0df001b3b59e"
      },
      "execution_count": 11,
      "outputs": [
        {
          "output_type": "stream",
          "name": "stdout",
          "text": [
            "Values: a = 5, b = 10\n",
            "\n",
            "Both a and b are positive.\n",
            "At least one of a or b is positive.\n",
            "a is positive.\n",
            "b is positive.\n",
            "\n",
            "Values: a = -5, b = 10\n",
            "\n",
            "At least one of a or b is not positive.\n",
            "At least one of a or b is positive.\n",
            "a is not positive.\n",
            "b is positive.\n",
            "\n",
            "Values: a = -5, b = -10\n",
            "\n",
            "At least one of a or b is not positive.\n",
            "Neither a nor b is positive.\n",
            "a is not positive.\n",
            "b is not positive.\n",
            "\n",
            "Values: a = 0, b = 0\n",
            "\n",
            "At least one of a or b is not positive.\n",
            "Neither a nor b is positive.\n",
            "a is not positive.\n",
            "b is not positive.\n"
          ]
        }
      ]
    },
    {
      "cell_type": "markdown",
      "source": [
        "9. Write a Python program to convert user input from string to integer, float, and boolean types"
      ],
      "metadata": {
        "id": "NM-mmCrgmQ0C"
      }
    },
    {
      "cell_type": "code",
      "source": [
        "def convert_user_input():\n",
        "    # Get user input\n",
        "    user_input = input(\"Enter a value: \")\n",
        "\n",
        "    # Convert to integer\n",
        "    try:\n",
        "        int_value = int(user_input)\n",
        "        print(f\"Converted to integer: {int_value}\")\n",
        "    except ValueError:\n",
        "        print(\"Error: Cannot convert to integer.\")\n",
        "\n",
        "    # Convert to float\n",
        "    try:\n",
        "        float_value = float(user_input)\n",
        "        print(f\"Converted to float: {float_value}\")\n",
        "    except ValueError:\n",
        "        print(\"Error: Cannot convert to float.\")\n",
        "\n",
        "    # Convert to boolean\n",
        "    # For boolean conversion, we consider non-empty strings as True and empty strings as False\n",
        "    bool_value = bool(user_input)\n",
        "    print(f\"Converted to boolean: {bool_value}\")\n",
        "\n",
        "# Example usage\n",
        "if __name__ == \"__main__\":\n",
        "    convert_user_input()"
      ],
      "metadata": {
        "colab": {
          "base_uri": "https://localhost:8080/"
        },
        "id": "B_nYNnUkmUwM",
        "outputId": "d11da792-f9db-4fa9-8601-8fcb34e651ea"
      },
      "execution_count": 2,
      "outputs": [
        {
          "output_type": "stream",
          "name": "stdout",
          "text": [
            "Enter a value: 5.7\n",
            "Error: Cannot convert to integer.\n",
            "Converted to float: 5.7\n",
            "Converted to boolean: True\n"
          ]
        }
      ]
    },
    {
      "cell_type": "markdown",
      "source": [
        "10.  Write code to demonstrate type casting with list elements"
      ],
      "metadata": {
        "id": "OEe9mM2dLpqs"
      }
    },
    {
      "cell_type": "code",
      "source": [
        "def demonstrate_type_casting():\n",
        "    # Original list of strings\n",
        "    string_list = [\"1\", \"2\", \"3\", \"4.5\", \"5.6\", \"hello\"]\n",
        "\n",
        "    # Convert strings to integers (will fail for non-numeric strings)\n",
        "    int_list = []\n",
        "    for item in string_list:\n",
        "        try:\n",
        "            int_value = int(item)\n",
        "            int_list.append(int_value)\n",
        "        except ValueError:\n",
        "            print(f\"Cannot convert '{item}' to integer.\")\n",
        "\n",
        "    print(\"Converted to integers:\", int_list)\n",
        "\n",
        "    # Convert strings to floats\n",
        "    float_list = []\n",
        "    for item in string_list:\n",
        "        try:\n",
        "            float_value = float(item)\n",
        "            float_list.append(float_value)\n",
        "        except ValueError:\n",
        "            print(f\"Cannot convert '{item}' to float.\")\n",
        "\n",
        "    print(\"Converted to floats:\", float_list)\n",
        "\n",
        "    # Convert strings to booleans\n",
        "    bool_list = []\n",
        "    for item in string_list:\n",
        "        bool_value = bool(item)  # Non-empty strings are True, empty strings are False\n",
        "        bool_list.append(bool_value)\n",
        "\n",
        "    print(\"Converted to booleans:\", bool_list)\n",
        "\n",
        "# Example usage\n",
        "if __name__ == \"__main__\":\n",
        "    demonstrate_type_casting()"
      ],
      "metadata": {
        "colab": {
          "base_uri": "https://localhost:8080/"
        },
        "id": "jBuBm062Lr5J",
        "outputId": "8f0093b4-d2ef-40f3-da8c-8cd2f08e270a"
      },
      "execution_count": 4,
      "outputs": [
        {
          "output_type": "stream",
          "name": "stdout",
          "text": [
            "Cannot convert '4.5' to integer.\n",
            "Cannot convert '5.6' to integer.\n",
            "Cannot convert 'hello' to integer.\n",
            "Converted to integers: [1, 2, 3]\n",
            "Cannot convert 'hello' to float.\n",
            "Converted to floats: [1.0, 2.0, 3.0, 4.5, 5.6]\n",
            "Converted to booleans: [True, True, True, True, True, True]\n"
          ]
        }
      ]
    },
    {
      "cell_type": "markdown",
      "source": [
        "11. Write a program that checks if a number is positive, negative, or zero"
      ],
      "metadata": {
        "id": "-50zpMSNMved"
      }
    },
    {
      "cell_type": "code",
      "source": [
        "def check_number():\n",
        "    # Get user input\n",
        "    user_input = input(\"Enter a number: \")\n",
        "\n",
        "    try:\n",
        "        # Convert input to float\n",
        "        number = float(user_input)\n",
        "\n",
        "        # Check if the number is positive, negative, or zero\n",
        "        if number > 0:\n",
        "            print(\"The number is positive.\")\n",
        "        elif number < 0:\n",
        "            print(\"The number is negative.\")\n",
        "        else:\n",
        "            print(\"The number is zero.\")\n",
        "    except ValueError:\n",
        "        print(\"Invalid input! Please enter a valid number.\")\n",
        "\n",
        "# Example usage\n",
        "if __name__ == \"__main__\":\n",
        "    check_number()"
      ],
      "metadata": {
        "colab": {
          "base_uri": "https://localhost:8080/"
        },
        "id": "wFTU83mZM8gh",
        "outputId": "88e51dfa-edcf-487a-e98b-cd8892d0af62"
      },
      "execution_count": 5,
      "outputs": [
        {
          "output_type": "stream",
          "name": "stdout",
          "text": [
            "Enter a number: 15\n",
            "The number is positive.\n"
          ]
        }
      ]
    },
    {
      "cell_type": "markdown",
      "source": [
        "12.  Write a for loop to print numbers from 1 to 10"
      ],
      "metadata": {
        "id": "UE7QfwmiNTIG"
      }
    },
    {
      "cell_type": "code",
      "source": [
        "# Using a for loop to print numbers from 1 to 10\n",
        "for number in range(1, 11):\n",
        "    print(number)"
      ],
      "metadata": {
        "colab": {
          "base_uri": "https://localhost:8080/"
        },
        "id": "E3_MUhyMNhZX",
        "outputId": "cd3af7a6-0746-47de-edff-a63ca5c26877"
      },
      "execution_count": 6,
      "outputs": [
        {
          "output_type": "stream",
          "name": "stdout",
          "text": [
            "1\n",
            "2\n",
            "3\n",
            "4\n",
            "5\n",
            "6\n",
            "7\n",
            "8\n",
            "9\n",
            "10\n"
          ]
        }
      ]
    },
    {
      "cell_type": "markdown",
      "source": [
        "13.  Write a Python program to find the sum of all even numbers between 1 and 50"
      ],
      "metadata": {
        "id": "iYU_wRNBNwn0"
      }
    },
    {
      "cell_type": "code",
      "source": [
        "def sum_of_even_numbers():\n",
        "    # Initialize the sum variable\n",
        "    total_sum = 0\n",
        "\n",
        "    # Loop through numbers from 1 to 50\n",
        "    for number in range(1, 51):\n",
        "        # Check if the number is even\n",
        "        if number % 2 == 0:\n",
        "            total_sum += number  # Add the even number to the total sum\n",
        "\n",
        "    return total_sum\n",
        "\n",
        "# Example usage\n",
        "if __name__ == \"__main__\":\n",
        "    result = sum_of_even_numbers()\n",
        "    print(\"The sum of all even numbers between 1 and 50 is:\", result)"
      ],
      "metadata": {
        "colab": {
          "base_uri": "https://localhost:8080/"
        },
        "id": "fbzz45WvN8yn",
        "outputId": "cf814541-1360-4453-eab0-98fb946f5b4a"
      },
      "execution_count": 7,
      "outputs": [
        {
          "output_type": "stream",
          "name": "stdout",
          "text": [
            "The sum of all even numbers between 1 and 50 is: 650\n"
          ]
        }
      ]
    },
    {
      "cell_type": "markdown",
      "source": [
        "14. Write a program to reverse a string using a while loop"
      ],
      "metadata": {
        "id": "23H3prqzONxd"
      }
    },
    {
      "cell_type": "code",
      "source": [
        "def reverse_string(input_string):\n",
        "    # Initialize an empty string to hold the reversed string\n",
        "    reversed_string = \"\"\n",
        "\n",
        "    # Get the length of the input string\n",
        "    length = len(input_string)\n",
        "\n",
        "    # Initialize a counter\n",
        "    index = length - 1\n",
        "\n",
        "    # Use a while loop to reverse the string\n",
        "    while index >= 0:\n",
        "        reversed_string += input_string[index]  # Append the character at the current index\n",
        "        index -= 1  # Decrement the index\n",
        "\n",
        "    return reversed_string\n",
        "\n",
        "# Example usage\n",
        "if __name__ == \"__main__\":\n",
        "    user_input = input(\"Enter a string to reverse: \")\n",
        "    result = reverse_string(user_input)\n",
        "    print(\"Reversed string:\", result)"
      ],
      "metadata": {
        "colab": {
          "base_uri": "https://localhost:8080/"
        },
        "id": "ObMKU_paOTNz",
        "outputId": "d10fe529-1f92-41e1-8e53-605e6a97e5a9"
      },
      "execution_count": 8,
      "outputs": [
        {
          "output_type": "stream",
          "name": "stdout",
          "text": [
            "Enter a string to reverse: 50\n",
            "Reversed string: 05\n"
          ]
        }
      ]
    },
    {
      "cell_type": "markdown",
      "source": [
        "15.  Write a Python program to calculate the factorial of a number provided by the user using a while loop."
      ],
      "metadata": {
        "id": "IYCt96PjO1Dm"
      }
    },
    {
      "cell_type": "code",
      "source": [
        "def calculate_factorial():\n",
        "    # Get user input\n",
        "    number = int(input(\"Enter a non-negative integer to calculate its factorial: \"))\n",
        "\n",
        "    # Check if the number is negative\n",
        "    if number < 0:\n",
        "        print(\"Factorial is not defined for negative numbers.\")\n",
        "        return\n",
        "\n",
        "    # Initialize variables\n",
        "    factorial = 1\n",
        "    count = 1\n",
        "\n",
        "    # Calculate factorial using a while loop\n",
        "    while count <= number:\n",
        "        factorial *= count  # Multiply the current count to the factorial\n",
        "        count += 1  # Increment the count\n",
        "\n",
        "    return factorial\n",
        "\n",
        "# Example usage\n",
        "if __name__ == \"__main__\":\n",
        "    result = calculate_factorial()\n",
        "    if result is not None:\n",
        "        print(\"The factorial is:\", result)"
      ],
      "metadata": {
        "colab": {
          "base_uri": "https://localhost:8080/"
        },
        "id": "6EfjcuxnO8rt",
        "outputId": "4d55ecf9-2d57-4455-81a0-edff6338bfe6"
      },
      "execution_count": 9,
      "outputs": [
        {
          "output_type": "stream",
          "name": "stdout",
          "text": [
            "Enter a non-negative integer to calculate its factorial: 70\n",
            "The factorial is: 11978571669969891796072783721689098736458938142546425857555362864628009582789845319680000000000000000\n"
          ]
        }
      ]
    }
  ]
}